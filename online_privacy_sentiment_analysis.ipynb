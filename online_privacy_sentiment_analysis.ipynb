{
 "cells": [
  {
   "cell_type": "code",
   "execution_count": 73,
   "metadata": {
    "collapsed": true
   },
   "outputs": [],
   "source": [
    "import numpy as np\n",
    "import tweepy\n",
    "import pandas as pd\n",
    "import time, datetime\n",
    "import seaborn as sns\n",
    "import matplotlib.pyplot as plt\n"
   ]
  },
  {
   "cell_type": "code",
   "execution_count": 24,
   "metadata": {
    "collapsed": true
   },
   "outputs": [],
   "source": [
    "API_key = \"XXXXXX\"\n",
    "API_secret_key = \"XXXXXX\"\n",
    "access_token = \"XXXXXXXXXXXXXX\"\n",
    "access_token_secret = \"XXXXXXXXXXX\"\n",
    "\n",
    "auth = tweepy.OAuthHandler(API_key, API_secret_key)\n",
    "auth.set_access_token(access_token, access_token_secret)\n",
    "api = tweepy.API(auth,wait_on_rate_limit=True) #,wait_on_rate_limit=False"
   ]
  },
  {
   "cell_type": "code",
   "execution_count": 29,
   "metadata": {
    "collapsed": true
   },
   "outputs": [],
   "source": [
    "def tweets_web(target, date):\n",
    "    cursor = tweepy.Cursor(\n",
    "        api.search,\n",
    "        q = target,\n",
    "        since = date[0],\n",
    "        until = date[1],\n",
    "        show_user = True)\n",
    "    \n",
    "    tweets = []\n",
    "    for tweet in cursor.items():\n",
    "        text = str(tweet.text.encode(\"utf-8\")).lower()\n",
    "        ## query by both key words: e.g. privacy AND youtube\n",
    "        if (target[0] in text) & (target[1] in text):\n",
    "            tweets.append((target[1],tweet.created_at,text))\n",
    "    tweetsdf = pd.DataFrame(tweets,columns=['Web','Datetime', 'Text'])\n",
    "    \n",
    "\n",
    "            # Converting dataframe to CSV\n",
    "    tweetsdf.to_csv('{}-tweets.csv'.format(target[0]+\"_\"+target[1]))\n",
    "        \n",
    "    return tweetsdf"
   ]
  },
  {
   "cell_type": "code",
   "execution_count": 22,
   "metadata": {
    "collapsed": true
   },
   "outputs": [],
   "source": [
    "### query tweets and save to csv\n",
    "for comp in ['youtube','google','facebook','apple','linkedin','tiktok','instagram']:\n",
    "    tweets_comp = tweets_web(target = ('privacy',comp),date = ('2020-01-01', '2020-02-09'))"
   ]
  },
  {
   "cell_type": "code",
   "execution_count": 32,
   "metadata": {
    "collapsed": true
   },
   "outputs": [],
   "source": [
    "tweets_comp = pd.read_csv('privacy_youtube-tweets.csv')\n",
    "for comp in ['google','facebook','apple','linkedin','tiktok','instagram']:\n",
    "    temp = pd.read_csv('privacy_' + comp + '-tweets.csv')\n",
    "    tweets_comp = pd.concat([tweets_comp,temp])"
   ]
  },
  {
   "cell_type": "code",
   "execution_count": 33,
   "metadata": {},
   "outputs": [
    {
     "data": {
      "text/plain": [
       "Index(['Web', 'Datetime', 'Text'], dtype='object')"
      ]
     },
     "execution_count": 33,
     "metadata": {},
     "output_type": "execute_result"
    }
   ],
   "source": [
    "del tweets_comp['Unnamed: 0']\n",
    "tweets_comp.columns"
   ]
  },
  {
   "cell_type": "code",
   "execution_count": 36,
   "metadata": {},
   "outputs": [],
   "source": [
    "tweets_comp['Datetime'] = pd.to_datetime(tweets_comp['Datetime'])\n",
    "tweets_comp['Date'] = tweets_comp['Datetime'].apply(lambda x: x.date())\n",
    "del tweets_comp['Datetime']"
   ]
  },
  {
   "cell_type": "code",
   "execution_count": 38,
   "metadata": {},
   "outputs": [
    {
     "data": {
      "text/plain": [
       "Index(['Web', 'Text', 'Date'], dtype='object')"
      ]
     },
     "execution_count": 38,
     "metadata": {},
     "output_type": "execute_result"
    }
   ],
   "source": [
    "tweets_comp = tweets_comp.reset_index(drop=True)\n",
    "tweets_comp.columns"
   ]
  },
  {
   "cell_type": "code",
   "execution_count": 39,
   "metadata": {},
   "outputs": [
    {
     "data": {
      "text/plain": [
       "((6087, 3), (2757, 3))"
      ]
     },
     "execution_count": 39,
     "metadata": {},
     "output_type": "execute_result"
    }
   ],
   "source": [
    "tweets_comp1 = tweets_comp.drop_duplicates().reset_index(drop=True)\n",
    "tweets_comp.shape, tweets_comp1.shape"
   ]
  },
  {
   "cell_type": "code",
   "execution_count": 40,
   "metadata": {
    "collapsed": true
   },
   "outputs": [],
   "source": [
    "privacy_count1 = pd.DataFrame(tweets_comp1.groupby(['Web']).count()['Text']).reset_index()\n",
    "privacy_count1 = privacy_count1.sort_values(by='Text',ascending=False)"
   ]
  },
  {
   "cell_type": "code",
   "execution_count": 10,
   "metadata": {
    "collapsed": true
   },
   "outputs": [],
   "source": [
    "privacy_count = pd.DataFrame(tweets_comp.groupby(['Web']).count()['Text']).reset_index()\n",
    "privacy_count = privacy_count.sort_values(by='Text',ascending=False)"
   ]
  },
  {
   "cell_type": "code",
   "execution_count": 61,
   "metadata": {},
   "outputs": [],
   "source": [
    "privacy_count.columns = ['Web','Text_Count']\n",
    "privacy_count1.columns = ['Web','Unique_Text_Count']"
   ]
  },
  {
   "cell_type": "code",
   "execution_count": 74,
   "metadata": {},
   "outputs": [
    {
     "data": {
      "text/html": [
       "<div>\n",
       "<style scoped>\n",
       "    .dataframe tbody tr th:only-of-type {\n",
       "        vertical-align: middle;\n",
       "    }\n",
       "\n",
       "    .dataframe tbody tr th {\n",
       "        vertical-align: top;\n",
       "    }\n",
       "\n",
       "    .dataframe thead th {\n",
       "        text-align: right;\n",
       "    }\n",
       "</style>\n",
       "<table border=\"1\" class=\"dataframe\">\n",
       "  <thead>\n",
       "    <tr style=\"text-align: right;\">\n",
       "      <th></th>\n",
       "      <th>Web</th>\n",
       "      <th>Text_Count</th>\n",
       "      <th>Unique_Text_Count</th>\n",
       "      <th>Prop_replicate_Text</th>\n",
       "    </tr>\n",
       "  </thead>\n",
       "  <tbody>\n",
       "    <tr>\n",
       "      <th>0</th>\n",
       "      <td>facebook</td>\n",
       "      <td>4497</td>\n",
       "      <td>1653</td>\n",
       "      <td>0.63</td>\n",
       "    </tr>\n",
       "    <tr>\n",
       "      <th>1</th>\n",
       "      <td>google</td>\n",
       "      <td>720</td>\n",
       "      <td>504</td>\n",
       "      <td>0.30</td>\n",
       "    </tr>\n",
       "    <tr>\n",
       "      <th>2</th>\n",
       "      <td>youtube</td>\n",
       "      <td>247</td>\n",
       "      <td>129</td>\n",
       "      <td>0.48</td>\n",
       "    </tr>\n",
       "    <tr>\n",
       "      <th>3</th>\n",
       "      <td>apple</td>\n",
       "      <td>243</td>\n",
       "      <td>213</td>\n",
       "      <td>0.12</td>\n",
       "    </tr>\n",
       "    <tr>\n",
       "      <th>4</th>\n",
       "      <td>instagram</td>\n",
       "      <td>228</td>\n",
       "      <td>129</td>\n",
       "      <td>0.43</td>\n",
       "    </tr>\n",
       "    <tr>\n",
       "      <th>5</th>\n",
       "      <td>tiktok</td>\n",
       "      <td>96</td>\n",
       "      <td>88</td>\n",
       "      <td>0.08</td>\n",
       "    </tr>\n",
       "    <tr>\n",
       "      <th>6</th>\n",
       "      <td>linkedin</td>\n",
       "      <td>56</td>\n",
       "      <td>41</td>\n",
       "      <td>0.27</td>\n",
       "    </tr>\n",
       "  </tbody>\n",
       "</table>\n",
       "</div>"
      ],
      "text/plain": [
       "         Web  Text_Count  Unique_Text_Count  Prop_replicate_Text\n",
       "0   facebook        4497               1653                 0.63\n",
       "1     google         720                504                 0.30\n",
       "2    youtube         247                129                 0.48\n",
       "3      apple         243                213                 0.12\n",
       "4  instagram         228                129                 0.43\n",
       "5     tiktok          96                 88                 0.08\n",
       "6   linkedin          56                 41                 0.27"
      ]
     },
     "execution_count": 74,
     "metadata": {},
     "output_type": "execute_result"
    }
   ],
   "source": [
    "privacy_count_summary = pd.merge(privacy_count,privacy_count1, on='Web',how = 'left')\n",
    "privacy_count_summary['Prop_replicate_Text'] = np.round(1 - privacy_count_summary.Unique_Text_Count\n",
    "                                                        /privacy_count_summary.Text_Count,2)\n",
    "privacy_count_summary"
   ]
  },
  {
   "cell_type": "markdown",
   "metadata": {},
   "source": [
    "## Number of privacy related tweets from 02/01/2020 - 02/09/2020:\n",
    "### Much more privacy related tweets are about facbook, then google and youtube. "
   ]
  },
  {
   "cell_type": "code",
   "execution_count": 75,
   "metadata": {},
   "outputs": [
    {
     "name": "stderr",
     "output_type": "stream",
     "text": [
      "/anaconda/lib/python3.6/site-packages/seaborn/categorical.py:1428: FutureWarning: remove_na is deprecated and is a private function. Do not use.\n",
      "  stat_data = remove_na(group_data)\n"
     ]
    },
    {
     "data": {
      "image/png": "[encoded data removed]",
      "text/plain": [
       "<matplotlib.figure.Figure at 0x118f4ae48>"
      ]
     },
     "metadata": {},
     "output_type": "display_data"
    }
   ],
   "source": [
    "ax = sns.barplot('Web','Text_Count',data = privacy_count_summary,palette='PRGn')\n",
    "ax.set(xlabel='', ylabel='count')\n",
    "ax.set_title('Number of privacy related tweets by company')\n",
    "plt.show()"
   ]
  },
  {
   "cell_type": "markdown",
   "metadata": {},
   "source": [
    "## Proportion of tweets that are non-original, e.g. belongs to retweets?\n",
    "### About 63% facbook, privacy related tweets are not original, maybe belongs to retweets. Even though instagram has much less privacy related tweets, more than 40% of them are not original. This tells us that privacy for facbook related products get some people's attention easier. \n",
    "### About half Youtube privacy related tweets are also not original. \n",
    "### Privacy in Apple hasn't got as much attention as facebook and youtube. "
   ]
  },
  {
   "cell_type": "code",
   "execution_count": 81,
   "metadata": {},
   "outputs": [
    {
     "name": "stderr",
     "output_type": "stream",
     "text": [
      "/anaconda/lib/python3.6/site-packages/seaborn/categorical.py:1428: FutureWarning: remove_na is deprecated and is a private function. Do not use.\n",
      "  stat_data = remove_na(group_data)\n"
     ]
    },
    {
     "data": {
      "image/png": "[encoded data removed]",
      "text/plain": [
       "<matplotlib.figure.Figure at 0x10d697390>"
      ]
     },
     "metadata": {},
     "output_type": "display_data"
    }
   ],
   "source": [
    "ax = sns.barplot('Web','Prop_replicate_Text',data = privacy_count_summary,palette='PRGn')\n",
    "ax.set(xlabel='', ylabel='proportion')\n",
    "ax.set_ylim(0,0.7)\n",
    "ax.set_title('Proportion of non-original privacy related tweets by company')\n",
    "plt.show()"
   ]
  },
  {
   "cell_type": "markdown",
   "metadata": {
    "collapsed": true
   },
   "source": [
    "## Next: Sentiment analysis for privacy related tweets"
   ]
  },
  {
   "cell_type": "code",
   "execution_count": null,
   "metadata": {
    "collapsed": true
   },
   "outputs": [],
   "source": []
  }
 ],
 "metadata": {
  "kernelspec": {
   "display_name": "Python 3",
   "language": "python",
   "name": "python3"
  },
  "language_info": {
   "codemirror_mode": {
    "name": "ipython",
    "version": 3
   },
   "file_extension": ".py",
   "mimetype": "text/x-python",
   "name": "python",
   "nbconvert_exporter": "python",
   "pygments_lexer": "ipython3",
   "version": "3.6.1"
  }
 },
 "nbformat": 4,
 "nbformat_minor": 2
}
